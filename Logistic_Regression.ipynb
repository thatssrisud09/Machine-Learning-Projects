{
 "cells": [
  {
   "cell_type": "code",
   "execution_count": 1,
   "id": "9a54c52d-bdfd-4870-9e03-ce98caa1651f",
   "metadata": {},
   "outputs": [],
   "source": [
    "import pandas as pd\n",
    "from sklearn.model_selection import train_test_split\n",
    "from sklearn.linear_model import LogisticRegression"
   ]
  },
  {
   "cell_type": "code",
   "execution_count": 2,
   "id": "bedea49e-7b2a-4cbb-a3a1-0fcf6478a640",
   "metadata": {},
   "outputs": [],
   "source": [
    "#importing dataset to access it with a variable \n",
    "df = pd.read_csv(r\"C:\\Users\\srisu\\Downloads\\archive\\student_exam_data_new.csv\")\n",
    "\n",
    "#assigning first two columns as the input columns \n",
    "x = df[df.columns[:2]]\n",
    "#assigning last column as the output column \n",
    "y = df[df.columns[-1]]\n",
    "#dataset has no missing values so, no need of further pre-processing "
   ]
  },
  {
   "cell_type": "code",
   "execution_count": 3,
   "id": "ceb97c31-a9fa-489c-8628-8d102a937aa9",
   "metadata": {},
   "outputs": [
    {
     "name": "stdout",
     "output_type": "stream",
     "text": [
      "Validation set score: 0.7777777777777778\n",
      "Test set score: 0.92\n"
     ]
    }
   ],
   "source": [
    "#dataset split into testing, training and cross validation tests- 10% for testing purposes\n",
    "x_train, x_test, y_train, y_test = train_test_split(x, y, test_size=0.1, random_state=10)\n",
    "#81% of the data for training, 9% for cross validation \n",
    "x_train, x_val, y_train, y_val = train_test_split(x_train, y_train, test_size=0.1, random_state=10)\n",
    "\n",
    "#creating the linear regression model with additional coefficients to the loss function\n",
    "model = LogisticRegression(class_weight='balanced', penalty='l1', solver='liblinear')\n",
    "\n",
    "#Model Training \n",
    "model.fit(x_train, y_train)\n",
    "\n",
    "#evaluating the validation score \n",
    "val_score = model.score(x_val, y_val)\n",
    "print(f'Validation set score: {val_score}')\n",
    "\n",
    "#evaluating the final model\n",
    "test_score = model.score(x_test, y_test)\n",
    "print(f'Test set score: {test_score}')"
   ]
  },
  {
   "cell_type": "code",
   "execution_count": 5,
   "id": "c62d1224-f879-486d-94b4-4f6c49231c27",
   "metadata": {},
   "outputs": [
    {
     "name": "stdin",
     "output_type": "stream",
     "text": [
      "Enter the previous test's score:  0.0\n",
      "Enter the study hours:  5.1\n"
     ]
    },
    {
     "name": "stdout",
     "output_type": "stream",
     "text": [
      "The student will fail in the next exam\n"
     ]
    },
    {
     "name": "stderr",
     "output_type": "stream",
     "text": [
      "C:\\Users\\srisu\\anaconda3\\Lib\\site-packages\\sklearn\\base.py:493: UserWarning: X does not have valid feature names, but LogisticRegression was fitted with feature names\n",
      "  warnings.warn(\n"
     ]
    }
   ],
   "source": [
    "#Checking with custom values of data \n",
    "m=float(input(\"Enter the previous test's score: \"))\n",
    "t=float(input(\"Enter the study hours: \"))\n",
    "y_pred=model.predict([[m,t]])\n",
    "if y_pred==[1]:\n",
    "    print(\"The student will pass in the next exam\")\n",
    "else:\n",
    "    print(\"The student will fail in the next exam\")"
   ]
  },
  {
   "cell_type": "code",
   "execution_count": null,
   "id": "51480954-4691-4e8d-9dd6-d7b109a24558",
   "metadata": {},
   "outputs": [],
   "source": []
  }
 ],
 "metadata": {
  "kernelspec": {
   "display_name": "Python 3 (ipykernel)",
   "language": "python",
   "name": "python3"
  },
  "language_info": {
   "codemirror_mode": {
    "name": "ipython",
    "version": 3
   },
   "file_extension": ".py",
   "mimetype": "text/x-python",
   "name": "python",
   "nbconvert_exporter": "python",
   "pygments_lexer": "ipython3",
   "version": "3.12.4"
  }
 },
 "nbformat": 4,
 "nbformat_minor": 5
}
